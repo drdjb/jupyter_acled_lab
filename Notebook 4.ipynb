{
 "cells": [
  {
   "cell_type": "markdown",
   "metadata": {},
   "source": [
    "<img src=\"/static/base/images/logo.png?v=641991992878ee24c6f3826e81054a0f\" alt=\"Jupyter Notebook\">\n",
    "<h1 style=\"text-align: center\">Notebook 4 - Analysis of ACLED data set</h1>"
   ]
  },
  {
   "cell_type": "markdown",
   "metadata": {},
   "source": [
    "<h3>Prerequisites</h3>\n",
    "\n",
    "- You must have Python 3 installed on your system (<a href=\"https://www.python.org/downloads/\">Download</a>)\n",
    "- You must have Jupyter installed on your system (<a href=\"https://jupyter.org/install\">Download</a>)\n",
    "- Some knowledge of Python may be required"
   ]
  },
  {
   "cell_type": "markdown",
   "metadata": {},
   "source": [
    "<h3>Explanation of Notebook 4</h3>\n",
    "\n",
    "In this notebook, you wil carry out a number of analysis on an ACLED (Armed Conflict Location and Event Data Project) data set (<a href=\"https://www.acleddata.com/curated-data-files/\">Source</a>).<br>\n",
    "This analysis can be done by either Python or R, or both, however for this, we will use Python since it is easier.\n",
    "\n",
    "You will have the data of four continents; Africa, Asia, Europe, and Middle East.<br>\n",
    "They are all updated as of 6th of July, 2019.\n",
    "\n",
    "The data was initially in xlsx (Excel) format but was converted to csv format.\n",
    "\n",
    "The analysis must carry out with charts showing the following:\n",
    "+ Conflicts per country over time\n",
    "+ Typical lengths of conflict in a country or across the continent\n",
    "+ Correlations weather data (mean temperature and rainfall)\n",
    "\n",
    "You can analyse all four continents, starting from Africa; once one of the continents is analysed, the rest will be very similar."
   ]
  },
  {
   "cell_type": "markdown",
   "metadata": {},
   "source": [
    "<h3>Getting started</h3>\n",
    "\n",
    "To get started with this notebook, you will need to first install the matplotlib package.<br>\n",
    "You can do this using pip in Command Prompt (Windows), or the Terminal (MacOS/Linux):<br>\n",
    "+ <code>pip install matplotlib</code>\n",
    "\n",
    "Otherwise, run the cell below."
   ]
  },
  {
   "cell_type": "code",
   "execution_count": null,
   "metadata": {},
   "outputs": [],
   "source": [
    "pip install matplotlib"
   ]
  },
  {
   "cell_type": "markdown",
   "metadata": {},
   "source": [
    "We must first make sure that the kernel is set to Python as only then will the Python code run, after the kernel is set to Python, try run the following cell."
   ]
  },
  {
   "cell_type": "code",
   "execution_count": null,
   "metadata": {},
   "outputs": [],
   "source": [
    "import csv #Import the csv package\n",
    "\n",
    "with open('data/Africa_1997-2019_Jul06.csv', 'r', encoding=\"ISO-8859-1\") as csv_file: #Open the csv file and assign it to a variable ('csv_file')\n",
    "    csv_reader = csv.reader(csv_file) #Read the file using the .reader function of csv package to 'csv_reader'\n",
    "        \n",
    "    csvList = list(csv_reader) #Convert to a list\n",
    "    csvList.remove(csvList[0]) #This is used to remove the headers to reduce issues with parsing"
   ]
  },
  {
   "cell_type": "markdown",
   "metadata": {},
   "source": [
    "This will import the African continent's ACLED data and convert it to a list which we can now use to analyse, you will notice that the encoding is set to \"ISO-8859-1\", this is because with another encoding it would result in errors.\n",
    "\n",
    "You can access each row using its index, but using that index, you can also access each attribute/column by their indexes as well; an example is shown below."
   ]
  },
  {
   "cell_type": "code",
   "execution_count": null,
   "metadata": {},
   "outputs": [],
   "source": [
    "csvList[0][3]"
   ]
  },
  {
   "cell_type": "markdown",
   "metadata": {},
   "source": [
    "This should print out \"01-January-1997\", because it is the value of the fourth column on the first row, meaning that this is the event date for the first event."
   ]
  },
  {
   "cell_type": "markdown",
   "metadata": {},
   "source": [
    "<h3>Conflicts over years</h3>\n",
    "\n",
    "The first task is to view the conflicts per country in the continent over time; if you look at the csv file manually, you'd see that the countries are in the 17th column (<code>COUNTRY</code>), meaning that it is the 16th index, and since it has to be over a period of time, we will also get the year column (<code>YEAR</code>) which is the 5th column, making it index 4. This will involve another thing; the conflicts, but for this we won't require the type of conflict, we simply want the number of conflicts.\n",
    "\n",
    "+ <code>COUNTRY</code> - Index 16\n",
    "+ <code>YEAR</code> - Index 4\n",
    "\n",
    "The best way to visualise this is to have a line graph for each respective country with their conflicts over the years,\n",
    "and to do this, there's two things we must do; gather all countries as well as the number of conflicts for each year.\n",
    "\n",
    "This will require a lot of thinking and effort and so it is easy to get lost, and so all of it is completed in the cell below."
   ]
  },
  {
   "cell_type": "code",
   "execution_count": null,
   "metadata": {},
   "outputs": [],
   "source": [
    "import matplotlib.pyplot as plt\n",
    "\n",
    "def conflictYears():\n",
    "    years = [] #To store the years\n",
    "    counts = [] #To store the conflict count\n",
    "    countries = [] #To store all countries\n",
    "\n",
    "    count = 0 #Initial counter\n",
    "\n",
    "    everything = {} #To store everything together\n",
    "\n",
    "    for i, row in enumerate(csvList): #Enumerate through the list (Enables you to use index easily)\n",
    "        country = row[16] #Store the country\n",
    "        year = row[4] #Store the year\n",
    "\n",
    "        if ((country in countries) == False): #If the country isn't previously entered\n",
    "            countries.append(country) #Add the country to the list\n",
    "            years = [] #Empty the years to reset to not clash with previous country\n",
    "            counts = [] #Empty the counts to reset to not clash with previous country\n",
    "\n",
    "        else: #If the country is entered (To allow multiple conflicts to be added)\n",
    "            if ((year in years) == False): #If the year isn't added\n",
    "                years.append(year) #Add the year\n",
    "\n",
    "                if (count > 0): #If the count is above 0 (Done to prevent adding a 0 for the first element)\n",
    "                    counts.append(count) #Add the current count (This is attached to the previous year)\n",
    "                count = 0 #Reset the count to use for the next or the currently added year\n",
    "                count += 1 #Increment the count (First row of the year)\n",
    "\n",
    "            else: #If the year is added\n",
    "                count += 1 #Increment the count (Second row and onwards of the year)\n",
    "                if (i+1 == len(csvList)): #If it's the last row of the list (To prevent it not adding the final year)\n",
    "                    counts.append(count) #Add the count of the current year\n",
    "\n",
    "        dictionary = dict(zip(years, counts)) #Make a dictionary with both the years and counts for the current country\n",
    "        everything[country] = dictionary #Set the dictionary as the value for the country\n",
    "        \n",
    "    return everything"
   ]
  },
  {
   "cell_type": "markdown",
   "metadata": {},
   "source": [
    "The above cell will store each country with an attached list of years which has a counter for the amount of conflicts.<br>\n",
    "Now we can finally make the graph to see this visualised."
   ]
  },
  {
   "cell_type": "code",
   "execution_count": null,
   "metadata": {},
   "outputs": [],
   "source": [
    "plt.figure(figsize=(20,5)) #Change the size of the chart to fit everything\n",
    "\n",
    "#Change this to any country in Africa to see the results for each year    \n",
    "country = \"Zambia\"\n",
    "\n",
    "#Gets the conflicts over the years\n",
    "yearData = conflictYears()\n",
    "\n",
    "#Convert both to a list since dictionaries don't work with plots\n",
    "plt.plot((list(yearData[country].keys())), (list(yearData[country].values()))) \n",
    "\n",
    "#Set the labels\n",
    "plt.ylabel('Conflict count')\n",
    "plt.title('Conflict for country ['+ country +'] for all years')"
   ]
  },
  {
   "cell_type": "markdown",
   "metadata": {},
   "source": [
    "Running the above cell will generate a well constructed chart for displaying the conflict count throughout the years for the country 'Zambia'; one thing to note is that it may not show the latest year in some countries due to lack of data.\n",
    "\n",
    "Try attempt this but on the Europe data set (\"data/Europe_2018-2019_Jul06.csv\") on the following cell.<br>\n",
    "Please ensure it is also under the function named \"conflictYears2\" to avoid clashing with the variables."
   ]
  },
  {
   "cell_type": "code",
   "execution_count": null,
   "metadata": {},
   "outputs": [],
   "source": []
  },
  {
   "cell_type": "markdown",
   "metadata": {},
   "source": [
    "<b>Double click for the solution</b>\n",
    "\n",
    "<!--\n",
    "import matplotlib.pyplot as plt\n",
    "\n",
    "def conflictYears():\n",
    "    years = [] #To store the years\n",
    "    counts = [] #To store the conflict count\n",
    "    countries = [] #To store all countries\n",
    "\n",
    "    count = 0 #Initial counter\n",
    "\n",
    "    everything = {} #To store everything together\n",
    "\n",
    "    for i, row in enumerate(csvList): #Enumerate through the list (Enables you to use index easily)\n",
    "        country = row[16] #Store the country\n",
    "        year = row[4] #Store the year\n",
    "\n",
    "        if ((country in countries) == False): #If the country isn't previously entered\n",
    "            countries.append(country) #Add the country to the list\n",
    "            years = [] #Empty the years to reset to not clash with previous country\n",
    "            counts = [] #Empty the counts to reset to not clash with previous country\n",
    "\n",
    "        else: #If the country is entered (To allow multiple conflicts to be added)\n",
    "            if ((year in years) == False): #If the year isn't added\n",
    "                years.append(year) #Add the year\n",
    "\n",
    "                if (count > 0): #If the count is above 0 (Done to prevent adding a 0 for the first element)\n",
    "                    counts.append(count) #Add the current count (This is attached to the previous year)\n",
    "                count = 0 #Reset the count to use for the next or the currently added year\n",
    "                count += 1 #Increment the count (First row of the year)\n",
    "\n",
    "            else: #If the year is added\n",
    "                count += 1 #Increment the count (Second row and onwards of the year)\n",
    "                if (i+1 == len(csvList)): #If it's the last row of the list (To prevent it not adding the final year)\n",
    "                    counts.append(count) #Add the count of the current year\n",
    "\n",
    "        dictionary = dict(zip(years, counts)) #Make a dictionary with both the years and counts for the current country\n",
    "        everything[country] = dictionary #Set the dictionary as the value for the country\n",
    "    \n",
    "plt.figure(figsize=(20,5)) #Change the size of the chart to fit everything\n",
    "\n",
    "#Change this to any country in Africa to see the results for each year    \n",
    "country = \"Ukraine\"\n",
    "\n",
    "#Convert both to a list since dictionaries don't work with plots\n",
    "plt.plot((list(everything[country].keys())), (list(everything[country].values()))) \n",
    "\n",
    "#Set the labels\n",
    "plt.ylabel('Conflict count')\n",
    "plt.title('Conflict for country ['+ country +'] for all years')\n",
    "-->\n",
    "\n",
    "You will notice that there's not much data and so the date range will be considerably lower."
   ]
  },
  {
   "cell_type": "markdown",
   "metadata": {},
   "source": [
    "<h3>Average conflicts lengths per country</h3>\n",
    "\n",
    "Next up is to find the typical lengths of conflicts in a country or as a continent as a whole, the way we must do this is by getting the average length for those conflicts for either a country or a continent.\n",
    "\n",
    "However, this time, it's slightly different; since there is no official column for the duration of the conflicts, we must calculate this by getting the difference in dates between the current conflict and the next conflict, if there are more than one conflict in a day however, we count it as one day.\n",
    "\n",
    "For this, we will need to use the column with the date for each row (<code>EVENT_TIME</code>), which is the 4th column, meaning it's the index 3, and we'd also need the column for the country to categorise and determine the average length (<code>COUNTRY</code>), which is the 17th column, making it index 16.\n",
    "\n",
    "+ <code>EVENT_TIME</code> - Index 3\n",
    "+ <code>COUNTRY</code> - Index 16\n",
    "\n",
    "Check the cell below."
   ]
  },
  {
   "cell_type": "code",
   "execution_count": null,
   "metadata": {},
   "outputs": [],
   "source": [
    "from datetime import datetime\n",
    "\n",
    "def calculateDates(date, nextDate):\n",
    "    d1 = datetime.strptime(date, \"%d-%b-%y\") #Formats the date\n",
    "    d2 = datetime.strptime(nextDate, \"%d-%b-%y\") #Formats the date\n",
    "    \n",
    "    difference = abs((d2 - d1).days) #Gets the exact day difference between the two\n",
    "    \n",
    "    if (difference == 0): #If the difference is 0\n",
    "        return 1 #Return 1 (day)\n",
    "    \n",
    "    return difference #Return the difference"
   ]
  },
  {
   "cell_type": "markdown",
   "metadata": {},
   "source": [
    "This creates a function that accepts the current date and the next row's data, this is so that it can compare the difference between the two. <br>You can see that it returns 1 if the difference is 0, this is because the minimum must always be 1 day.\n",
    "\n",
    "We will use this in the next function."
   ]
  },
  {
   "cell_type": "code",
   "execution_count": null,
   "metadata": {},
   "outputs": [],
   "source": [
    "import matplotlib.pyplot as plt\n",
    "\n",
    "def conflictLengths():\n",
    "    lengths = [] #To store the conflict count\n",
    "    countries = [] #To store all countries\n",
    "    \n",
    "    currLengths = [] #To store current lengths\n",
    "\n",
    "    everything = {} #To store everything together\n",
    "\n",
    "    for i, row in enumerate(csvList): #Enumerate through the list (Enables you to use index easily)\n",
    "        country = row[16] #Store the country\n",
    "        nextRow = csvList[i+1] #Gets the next row\n",
    "        nextCountry = nextRow[16] #Gets the country of the next row\n",
    "        \n",
    "        date = row[3] #Gets the row\n",
    "        nextDate = nextRow[3] #Gets the next row\n",
    "\n",
    "        if ((country in countries) == False): #If the country isn't previously entered\n",
    "            if (len(currLengths) > 0): #Ensures that it isnt the first row\n",
    "                currMean = (sum(currLengths) / len(currLengths)) #Mean of the lengths           \n",
    "                lengths.append(currMean) #Appends the mean\n",
    "                            \n",
    "            countries.append(country) #Add the country to the list\n",
    "            currLengths = [] #Empty the lengths to reset to not clash with previous country\n",
    "            num = calculateDates(date, nextDate) #Gets the difference\n",
    "            currLengths.append(num) #Appends the difference\n",
    "            \n",
    "        else: #If the country is entered (To allow multiple conflicts to be added)\n",
    "            if (country == nextCountry): #Ensures the difference is taken from the same countries\n",
    "                num = calculateDates(date, nextDate) #Gets the difference\n",
    "                currLengths.append(num) #Appends the difference\n",
    "\n",
    "                if (i+2 == len(csvList)): #Set to 2 because if it's set to 1 it won't get to the row before the last (Error!)\n",
    "                    currMean = (sum(currLengths) / len(currLengths)) #Gets the mean          \n",
    "                    lengths.append(currMean) #Appends the mean\n",
    "                    break #Breaks to prevent error (By going to check the next row in the next iteration)\n",
    "            else:\n",
    "                pass\n",
    "            \n",
    "    dictionary = dict(zip(countries, lengths)) #Make a dictionary with both the countries and their lengths\n",
    "    \n",
    "    return dictionary"
   ]
  },
  {
   "cell_type": "markdown",
   "metadata": {},
   "source": [
    "This function is similar to the function for gaining conflicts over the years but this time we only work with two columns; <code>EVENT_TIME</code>, <code>COUNTRY</code>, and therefore it's shorter but it's done differently as the mean is calculated after the differences between the dates of the first and second rows are calculated.\n",
    "\n",
    "The dictionary will contain a mix of both the countries (the keys) and the lengths (the values).<br>\n",
    "You can get the result of this in the following cell."
   ]
  },
  {
   "cell_type": "code",
   "execution_count": null,
   "metadata": {},
   "outputs": [],
   "source": [
    "#Gets the conflicts lengths for each country\n",
    "lengthData = conflictLengths()\n",
    "\n",
    "print(lengthData)"
   ]
  },
  {
   "cell_type": "markdown",
   "metadata": {},
   "source": [
    "You can see that all of the average times are listed above in a dictionary allocated to their respective country, however, the problem with this is that the mean values are too precise, and therefore we must round each of them to their nearest whole number, how would we do this?<br>\n",
    "__You must complete this step before moving to the next__"
   ]
  },
  {
   "cell_type": "code",
   "execution_count": null,
   "metadata": {},
   "outputs": [],
   "source": []
  },
  {
   "cell_type": "markdown",
   "metadata": {},
   "source": [
    "<b>Double click for the solution</b>\n",
    "\n",
    "<!--for pair in lengthData:\n",
    "    lengthData[pair] = round(lengthData[pair])\n",
    "-->"
   ]
  },
  {
   "cell_type": "markdown",
   "metadata": {},
   "source": [
    "Now we can use this variable \"lengthData\" to generate charts to display the averages for each country; there's multiple ways of doing this, however you need to be careful as there are 49 countries, and so displaying all of them would be hard in some charts.\n",
    "\n",
    "A good way of displaying this data would be in a bar chart."
   ]
  },
  {
   "cell_type": "code",
   "execution_count": null,
   "metadata": {},
   "outputs": [],
   "source": [
    "import matplotlib.pyplot as plt\n",
    "import matplotlib.ticker as ticker #Needed to set the interval\n",
    "\n",
    "#Bar chart using countries and their average conflict days\n",
    "fig, ax = plt.subplots(1,1, figsize=(20,10)) #Set the figure size so that the graph isn't too small\n",
    "ax.bar(lengthData.keys(),lengthData.values())\n",
    "\n",
    "#Set the intervals for the y axis data \n",
    "ax.yaxis.set_major_locator(ticker.MultipleLocator(5)) #Interval of 5\n",
    "\n",
    "#Labels\n",
    "plt.xlabel(\"Countries\")\n",
    "plt.ylabel(\"Average lengths of conflicts (Days)\")\n",
    "\n",
    "#Rotate 90 degrees\n",
    "plt.xticks(rotation=90)\n",
    "\n",
    "#Add the grid\n",
    "ax.grid()\n",
    "\n",
    "#Show the plot\n",
    "plt.show()"
   ]
  },
  {
   "cell_type": "markdown",
   "metadata": {},
   "source": [
    "Running the cell above will display a bar chart, you'll notice that the x axis's ticks (Countries) are rotated 90 degrees anti-clockwise using the parameter \"rotation\" using the method \"xticks\" of matplotlib; this is because there are too many countries and if it wasn't rotated, it'd all be clustered together, you can see that we imported a new package called \"ticker\" using the same matplotlib library to do this.\n",
    "\n",
    "There's also a grid included as the there's many countries and it'd be hard to read their allocated lengths of conflicts without them.\n",
    "\n",
    "Since all we've been doing so far is displaying the data, there isn't much that we had done with these graphs, and so this time, we're gonna highlight something in this visualisation; check the cell below."
   ]
  },
  {
   "cell_type": "code",
   "execution_count": null,
   "metadata": {},
   "outputs": [],
   "source": [
    "import matplotlib.pyplot as plt\n",
    "import matplotlib.ticker as ticker #Needed to set the interval\n",
    "import matplotlib.patches as ptch #Needed to get the rectangle properties\n",
    "\n",
    "#Bar chart using countries and their average conflict days\n",
    "fig, ax = plt.subplots(1,1, figsize=(20,10)) #Set the figure size so that the graph isn't too small\n",
    "barChart = ax.bar(lengthData.keys(),lengthData.values())\n",
    "\n",
    "lowest = 0 #Intiial index\n",
    "lowH = ptch.Rectangle.get_height(barChart[lowest]) #Gets the height of the intial bar\n",
    "\n",
    "for i, country in enumerate(barChart): #Goes through each bar\n",
    "    currH = ptch.Rectangle.get_height(country) #Gets the current bar's height\n",
    "    if (currH < lowH): #If it's the lowest\n",
    "        lowest = i #Set the new lowest\n",
    "        lowH = ptch.Rectangle.get_height(barChart[lowest]) #Set the new lowest height\n",
    "        \n",
    "#Set the colour of the lowest to green        \n",
    "barChart[lowest].set_color('#2eff00')\n",
    "\n",
    "#Set the intervals for the y axis data \n",
    "ax.yaxis.set_major_locator(ticker.MultipleLocator(5)) #Interval of 5\n",
    "\n",
    "#Labels\n",
    "plt.xlabel(\"Countries\")\n",
    "plt.ylabel(\"Average lengths of conflicts (Days)\")\n",
    "\n",
    "#Rotate 90 degrees\n",
    "plt.xticks(rotation=90)\n",
    "\n",
    "#Add the grid\n",
    "ax.grid()\n",
    "\n",
    "#Show the plot\n",
    "plt.show()"
   ]
  },
  {
   "cell_type": "markdown",
   "metadata": {},
   "source": [
    "Running the cell above will find the country with the lowest average length of conflicts using the height of each bar and colour it light green, which in this case is Tunisia.<br>\n",
    "We can now conclude that based on this data, Tunisia has the shortest conflicts, although this does not mean that it is safe as it also means that Tunisia has the most frequent conflicts as the lengths are based on the difference between one conflict and the conflict after it.\n",
    "\n",
    "Try the same but colour the highest with red in the cell below; it should colour Botswana."
   ]
  },
  {
   "cell_type": "code",
   "execution_count": null,
   "metadata": {},
   "outputs": [],
   "source": []
  },
  {
   "cell_type": "markdown",
   "metadata": {},
   "source": [
    "<b>Double click for the solution</b>\n",
    "\n",
    "<!--\n",
    "import matplotlib.pyplot as plt\n",
    "import matplotlib.ticker as ticker #Needed to set the interval\n",
    "import matplotlib.patches as ptch #Needed to get the rectangle properties\n",
    "\n",
    "#Bar chart using countries and their average conflict days\n",
    "fig, ax = plt.subplots(1,1, figsize=(20,10)) #Set the figure size so that the graph isn't too small\n",
    "barChart = ax.bar(lengthData.keys(),lengthData.values())\n",
    "\n",
    "highest = 0 #Intiial index\n",
    "highH = ptch.Rectangle.get_height(barChart[highest]) #Gets the height of the intial bar\n",
    "\n",
    "for i, country in enumerate(barChart): #Goes through each bar\n",
    "    currH = ptch.Rectangle.get_height(country) #Gets the current bar's height\n",
    "    if (currH > highH): #If it's the lowest\n",
    "        highest = i #Set the new lowest\n",
    "        highH = ptch.Rectangle.get_height(barChart[highest]) #Set the new lowest height\n",
    "        \n",
    "#Set the colour of the lowest to green        \n",
    "barChart[highest].set_color('red')\n",
    "\n",
    "#Set the intervals for the y axis data \n",
    "ax.yaxis.set_major_locator(ticker.MultipleLocator(5)) #Interval of 5\n",
    "\n",
    "#Labels\n",
    "plt.xlabel(\"Countries\")\n",
    "plt.ylabel(\"Average lengths of conflicts (Days)\")\n",
    "\n",
    "#Rotate 90 degrees\n",
    "plt.xticks(rotation=90)\n",
    "\n",
    "#Add the grid\n",
    "ax.grid()\n",
    "\n",
    "#Show the plot\n",
    "plt.show()\n",
    "-->"
   ]
  },
  {
   "cell_type": "markdown",
   "metadata": {},
   "source": [
    "<h3>Correlations in weather data</h3>\n",
    "\n",
    "Now that we have visualised the conflicts both over time and averages over each country in Africa, we have some experience in developing algorithms and displaying data, and so the next step is to show the correlations of what type of a conflict usually occurs based on the weather data. \n",
    "\n",
    "The problem with this is that just like the average conflicts, there's no column nor any relationship in the data for the weather at all, and so we must use a difference source of data just for the weather. \n",
    "\n",
    "Since we concluded that Tunisia has the most frequent conflicts, we want to test this climate data on the country with a less frequent conflicts, but we also don't want it to be too few as then we'd have less data, and so for this, we'll use Benin; this is so that there's a big enough gap for conflicts to start between each and we could use this to correlate with the climate data.\n",
    "\n",
    "It's important to know that this is to correlate the weather with the start dates of the conflicts instead of during them as every day is counted as a day of conflict in our previous data to measure their lengths. This means that we have to create a new algorithm for the old data to detect the start dates of a conflict regardless if there's another conflict on those same days, meaning that we must ignore duplicates.\n",
    "\n",
    "To reduce the hassle, the new source of data for the climate is already included in the project folder as the name \"BeninClimate.csv\", the dates of for the climate data are in invalid format and is too long to be manually formatted and in order to correlate the climate data with the conflict data the dates are a requirement, and so a new csv file with only Benin's filtered climate data is created with and saved in a file named \"BeninConflicts.csv\".\n",
    "\n",
    "The format for dates in both files will be: <code>yyyymmdd (e.g 20190526 for 2019/05/26)</code>\n",
    "\n",
    "The climate data contains the date, mean temperature, and precipitation, each in their respective columns:\n",
    "\n",
    "<code>YEARMODA</code> - Index 0<br>\n",
    "<code>TEMP</code> - Index 1<br>\n",
    "<code>PRCP</code> - Index 2\n",
    "\n",
    "The conflict data that we need is the event date, event type and sub event type:\n",
    "\n",
    "<code>EVENT_DATE</code> - Index 3<br>\n",
    "<code>EVENT_TYPE</code> - Index 6<br>\n",
    "<code>SUB_EVENT_TYPE</code> - Index 7\n",
    "\n",
    "Now that we know the columns that we are going to be working with, we will then first import Benin's conflict data and convert it to a list."
   ]
  },
  {
   "cell_type": "code",
   "execution_count": null,
   "metadata": {},
   "outputs": [],
   "source": [
    "import csv #Import the csv package\n",
    "\n",
    "with open('data/BeninConflicts.csv', 'r', encoding=\"utf-8\") as bConflictCsv: #Open the csv file and assign it to a variable ('bConflictCsv')\n",
    "    bConflictReader = csv.reader(bConflictCsv) #Read the file using the .reader function of csv package to 'csv_reader'\n",
    "\n",
    "    bConflictList = list(bConflictReader) #Convert to a list\n",
    "    bConflictList.remove(bConflictList[0]) #This is used to remove the headers to reduce issues with parsing"
   ]
  },
  {
   "cell_type": "markdown",
   "metadata": {},
   "source": [
    "Now that it's imported, if you run the cell below, it will give you the first row of the csv file."
   ]
  },
  {
   "cell_type": "code",
   "execution_count": null,
   "metadata": {},
   "outputs": [],
   "source": [
    "bConflictList[0]"
   ]
  },
  {
   "cell_type": "markdown",
   "metadata": {},
   "source": [
    "We will then import the climate data and also convert it to a list as shown below."
   ]
  },
  {
   "cell_type": "code",
   "execution_count": null,
   "metadata": {},
   "outputs": [],
   "source": [
    "with open('data/BeninClimate.csv', 'r') as bClimateCsv: #Open the csv file and assign it to a variable ('bConflictCsv')\n",
    "    bClimateReader = csv.reader(bClimateCsv) #Read the file using the .reader function of csv package to 'csv_reader'\n",
    "\n",
    "    bClimateList = list(bClimateReader) #Convert to a list\n",
    "    bClimateList.remove(bClimateList[0]) #This is used to remove the headers to reduce issues with parsing"
   ]
  },
  {
   "cell_type": "markdown",
   "metadata": {},
   "source": [
    "If you run the cell below, it'll show you the first row."
   ]
  },
  {
   "cell_type": "code",
   "execution_count": null,
   "metadata": {},
   "outputs": [],
   "source": [
    "bClimateList[0]"
   ]
  },
  {
   "cell_type": "markdown",
   "metadata": {},
   "source": [
    "Unlike the conflict data, climate data only has 3 columns, the only common column is the year now.\n",
    "\n",
    "Now we can build our algorithm; since we only have the temperature and the precipitation to correlate with the conflicts, we could think of multiple things, but in this case we'll first show the sub type of conflict depending on the temperature.\n",
    "\n",
    "For this, we will use two csv files at the same time."
   ]
  },
  {
   "cell_type": "code",
   "execution_count": null,
   "metadata": {},
   "outputs": [],
   "source": [
    "def getTemperature(conflict, climateList):\n",
    "    \n",
    "    #Go through each climate record\n",
    "    for climate in climateList:\n",
    "        if climate[0] == conflict[3]: #If the climate record's date matches the conflict's date\n",
    "            return float(climate[1]) #Return the temperature of the climate"
   ]
  },
  {
   "cell_type": "code",
   "execution_count": null,
   "metadata": {},
   "outputs": [],
   "source": [
    "def conflictClimate():\n",
    "    \n",
    "    typesOfConflict = [] #To store the types of conflicts\n",
    "    \n",
    "    currTempMeans = [] #To store the temperature means temporarily for each type\n",
    "    tempMeans = [] #To store all the temperature means for all types\n",
    "    \n",
    "    combined = {} #To store the conflicts and the temperature means for all types\n",
    "    \n",
    "    #Get the types of conflicts\n",
    "    for conflict in bConflictList:\n",
    "        confType = conflict[7]\n",
    "        \n",
    "        #If the conflict type isn't already entered\n",
    "        if ((confType in typesOfConflict) == False):\n",
    "            typesOfConflict.append(confType) #Append the conflict type\n",
    "    \n",
    "    #Get the type matching conflict temp means\n",
    "    for typeC in typesOfConflict:\n",
    "        \n",
    "        currTempMeans = [] #Empty the current temporary temperature means\n",
    "        \n",
    "        #Enumerature through each conflict\n",
    "        for i, conflict in enumerate(bConflictList):\n",
    "            prevConflict = bConflictList[i-1] #Get the previous conflict\n",
    "            \n",
    "            #Ensure \"duplicate\"/concurrent conflicts do not get included\n",
    "            if (prevConflict[3] == conflict[3]):\n",
    "                pass\n",
    "            else:\n",
    "                if (conflict[7] == typeC): #If the conflict matches the current conflict type\n",
    "                    currTemp = getTemperature(conflict, bClimateList) #Get the temperature by matching the conflict to the climate list\n",
    "                    if (currTemp == None): #If it returns 'None'\n",
    "                        currTempMeans.append(0.0) #Append 0.0 to prevent errors\n",
    "                    else: #If it returns a valid value\n",
    "                        currTempMeans.append(currTemp) #Append\n",
    "\n",
    "        #Calculate the temperature mean of the current type\n",
    "        mean = (sum(currTempMeans) / len(currTempMeans))\n",
    "\n",
    "        #Append the temperature mean of the current type\n",
    "        tempMeans.append(mean)\n",
    "        \n",
    "    #Combine all the conflicts and the temperature means into one dictionary\n",
    "    combined = dict(zip(typesOfConflict, tempMeans))\n",
    "    \n",
    "    #Return the dictionary\n",
    "    return combined\n",
    "            \n",
    "confClim = conflictClimate()\n",
    "confClim"
   ]
  },
  {
   "cell_type": "markdown",
   "metadata": {},
   "source": [
    "When running the above cell, you'll see that it gets all the conflict/event types and the temperature means for all of them.<br>\n",
    "\n",
    "Knowing this, how would you alter it to get the temperature means for the main types instead of the main types?<br>\n",
    "Try it in the cell below, use the above cell as a basis, use the function name \"conflictClimate2\" to avoid clashing."
   ]
  },
  {
   "cell_type": "code",
   "execution_count": null,
   "metadata": {},
   "outputs": [],
   "source": []
  },
  {
   "cell_type": "markdown",
   "metadata": {},
   "source": [
    "<b>Double click for the solution</b>\n",
    "\n",
    "<!--\n",
    "def conflictClimate2(): \n",
    "    \n",
    "    typesOfConflict = [] #To store the types of conflicts\n",
    "    \n",
    "    currTempMeans = [] #To store the temperature means temporarily for each type\n",
    "    tempMeans = [] #To store all the temperature means for all types\n",
    "    \n",
    "    combined = {} #To store the conflicts and the temperature means for all types\n",
    "    \n",
    "    #Get the types of conflicts\n",
    "    for conflict in bConflictList:\n",
    "        confType = conflict[6]\n",
    "        \n",
    "        #If the conflict type isn't already entered\n",
    "        if ((confType in typesOfConflict) == False):\n",
    "            typesOfConflict.append(confType) #Append the conflict type\n",
    "    \n",
    "    #Get the type matching conflict temp means\n",
    "    for typeC in typesOfConflict:\n",
    "        \n",
    "        currTempMeans = [] #Empty the current temporary temperature means\n",
    "        \n",
    "        #Enumerature through each conflict\n",
    "        for i, conflict in enumerate(bConflictList):\n",
    "            prevConflict = bConflictList[i-1] #Get the previous conflict\n",
    "            \n",
    "            #Ensure \"duplicate\"/concurrent conflicts do not get included\n",
    "            if (prevConflict[3] == conflict[3]):\n",
    "                pass\n",
    "            else:\n",
    "                if (conflict[6] == typeC): #If the conflict matches the current conflict type\n",
    "                    currTemp = getTemperature(conflict, bClimateList) #Get the temperature by matching the conflict to the climate list\n",
    "                    if (currTemp == None): #If it returns 'None'\n",
    "                        currTempMeans.append(0.0) #Append 0.0 to prevent errors\n",
    "                    else: #If it returns a valid value\n",
    "                        currTempMeans.append(currTemp) #Append\n",
    "\n",
    "        #Calculate the temperature mean of the current type\n",
    "        mean = (sum(currTempMeans) / len(currTempMeans))\n",
    "\n",
    "        #Append the temperature mean of the current type\n",
    "        tempMeans.append(mean)\n",
    "        \n",
    "    #Combine all the conflicts and the temperature means into one dictionary\n",
    "    combined = dict(zip(typesOfConflict, tempMeans))\n",
    "    \n",
    "    #Return the dictionary\n",
    "    return combined\n",
    "            \n",
    "confClim2 = conflictClimate2()\n",
    "confClim2\n",
    "-->"
   ]
  },
  {
   "cell_type": "markdown",
   "metadata": {},
   "source": [
    "We will represent the sub type/temperature correlations using a bar chart."
   ]
  },
  {
   "cell_type": "code",
   "execution_count": null,
   "metadata": {},
   "outputs": [],
   "source": [
    "import matplotlib.pyplot as plt\n",
    "import matplotlib.ticker as ticker #Needed to set the interval\n",
    "import matplotlib.patches as ptch #Needed to get the rectangle properties\n",
    "\n",
    "#Bar chart using countries and their average conflict days\n",
    "fig, ax = plt.subplots(1,1, figsize=(20,10)) #Set the figure size so that the graph isn't too small\n",
    "barChart = ax.bar(confClim.keys(),confClim.values())\n",
    "\n",
    "lowest = 0 #Intiial index\n",
    "lowH = ptch.Rectangle.get_height(barChart[lowest]) #Gets the height of the intial bar\n",
    "\n",
    "for i, conflict in enumerate(barChart): #Goes through each bar\n",
    "    currH = ptch.Rectangle.get_height(conflict) #Gets the current bar's height\n",
    "    if (currH < lowH): #If it's the lowest\n",
    "        lowest = i #Set the new lowest\n",
    "        lowH = ptch.Rectangle.get_height(barChart[lowest]) #Set the new lowest height\n",
    "        \n",
    "#Set the colour of the lowest to green        \n",
    "barChart[lowest].set_color('orange')\n",
    "\n",
    "#Set the intervals for the y axis data \n",
    "ax.yaxis.set_major_locator(ticker.MultipleLocator(5)) #Interval of 5\n",
    "\n",
    "#Labels\n",
    "plt.xlabel(\"Conflict sub types\")\n",
    "plt.ylabel(\"Average temperature (Celcius)\")\n",
    "\n",
    "#Rotate 90 degrees\n",
    "plt.xticks(rotation=45)\n",
    "\n",
    "#Add the grid\n",
    "ax.grid()\n",
    "\n",
    "#Show the plot\n",
    "plt.show()"
   ]
  },
  {
   "cell_type": "markdown",
   "metadata": {},
   "source": [
    "As you can see from the bar chart above, the conflict sub type mob violence has a low average temperature, meaning that in Benini, we can conclude that in lower temperatures, it's likely for a conflict to be related to mob violence.\n",
    "\n",
    "However, this was only for the temperature, we must also take into account the effect of rainfall as well, the process is very similar, it is listed below."
   ]
  },
  {
   "cell_type": "code",
   "execution_count": null,
   "metadata": {},
   "outputs": [],
   "source": [
    "def getRainfall(conflict, climateList):\n",
    "    \n",
    "    #Go through each climate record\n",
    "    for climate in climateList:\n",
    "        if climate[0] == conflict[3]: #If the climate record's date matches the conflict's date\n",
    "            rainfall = climate[2][:-1] #Set the rainfall variable (Without last letter to parse without erro)\n",
    "            return float(rainfall) #Return the rainfall of the climate"
   ]
  },
  {
   "cell_type": "markdown",
   "metadata": {},
   "source": [
    "You can see that it's identical to the function for getting the temperature, except this time it's for rainfall and so the last character is removed after the rainfall value is selected to prevent parsing errors as values under the column in the data often contains a random letter at the end."
   ]
  },
  {
   "cell_type": "code",
   "execution_count": null,
   "metadata": {},
   "outputs": [],
   "source": [
    "def conflictClimate2():\n",
    "    \n",
    "    typesOfConflict = [] #To store the types of conflicts\n",
    "    \n",
    "    currPRCPMeans = [] #To store the rainfall means temporarily for each type\n",
    "    PRCPMeans = [] #To store all the rainfall means for all types\n",
    "    \n",
    "    combined = {} #To store the conflicts and the rainfall means for all types\n",
    "    \n",
    "    #Get the types of conflicts\n",
    "    for conflict in bConflictList:\n",
    "        confType = conflict[7]\n",
    "        \n",
    "        #If the conflict type isn't already entered\n",
    "        if ((confType in typesOfConflict) == False):\n",
    "            typesOfConflict.append(confType) #Append the conflict type\n",
    "    \n",
    "    #Get the type matching conflict temp means\n",
    "    for typeC in typesOfConflict:\n",
    "        \n",
    "        currPRCPMeans = [] #Empty the current temporary rainfall means\n",
    "        \n",
    "        #Enumerature through each conflict\n",
    "        for i, conflict in enumerate(bConflictList):\n",
    "            prevConflict = bConflictList[i-1] #Get the previous conflict\n",
    "            \n",
    "            #Ensure \"duplicate\"/concurrent conflicts do not get included\n",
    "            if (prevConflict[3] == conflict[3]):\n",
    "                pass\n",
    "            else:\n",
    "                if (conflict[7] == typeC): #If the conflict matches the current conflict type\n",
    "                    currPRCP = getRainfall(conflict, bClimateList) #Get the rainfall by matching the conflict to the climate list\n",
    "                    if (currPRCP == None): #If it returns 'None'\n",
    "                        currPRCPMeans.append(0.0) #Append 0.0 to prevent errors\n",
    "                    else: #If it returns a valid value\n",
    "                        currPRCPMeans.append(currPRCP) #Append\n",
    "\n",
    "        #Calculate the temperature mean of the current type\n",
    "        mean = (sum(currPRCPMeans) / len(currPRCPMeans))\n",
    "\n",
    "        #Append the temperature mean of the current type\n",
    "        PRCPMeans.append(mean)\n",
    "        \n",
    "    #Combine all the conflicts and the temperature means into one dictionary\n",
    "    combined = dict(zip(typesOfConflict, PRCPMeans))\n",
    "    \n",
    "    #Return the dictionary\n",
    "    return combined\n",
    "            \n",
    "confClim2 = conflictClimate2()\n",
    "confClim2"
   ]
  },
  {
   "cell_type": "markdown",
   "metadata": {},
   "source": [
    "The exact same is done here, except that the variables are difference to avoid clashing with the previous method's variables and to fit the context further."
   ]
  },
  {
   "cell_type": "code",
   "execution_count": null,
   "metadata": {},
   "outputs": [],
   "source": [
    "import matplotlib.pyplot as plt\n",
    "import matplotlib.ticker as ticker #Needed to set the interval\n",
    "import matplotlib.patches as ptch #Needed to get the rectangle properties\n",
    "\n",
    "#Bar chart using countries and their average conflict days\n",
    "fig, ax = plt.subplots(1,1, figsize=(20,10)) #Set the figure size so that the graph isn't too small\n",
    "barChart = ax.bar(confClim2.keys(),confClim2.values())\n",
    "\n",
    "highest = 0 #Intiial index\n",
    "highH = ptch.Rectangle.get_height(barChart[highest]) #Gets the height of the intial bar\n",
    "\n",
    "for i, conflict in enumerate(barChart): #Goes through each bar\n",
    "    currH = ptch.Rectangle.get_height(conflict) #Gets the current bar's height\n",
    "    if (currH > highH): #If it's the lowest\n",
    "        highest = i #Set the new lowest\n",
    "        highH = ptch.Rectangle.get_height(barChart[highest]) #Set the new lowest height\n",
    "        \n",
    "#Set the colour of the lowest to green        \n",
    "barChart[highest].set_color('blue')\n",
    "\n",
    "#Labels\n",
    "plt.xlabel(\"Conflict sub types\")\n",
    "plt.ylabel(\"Average rainfall (Inches and hundreths)\")\n",
    "\n",
    "#Rotate 90 degrees\n",
    "plt.xticks(rotation=45)\n",
    "\n",
    "#Add the grid\n",
    "ax.grid()\n",
    "\n",
    "#Show the plot\n",
    "plt.show()"
   ]
  },
  {
   "cell_type": "markdown",
   "metadata": {},
   "source": [
    "By running the cell above, you'll get a graph, similar to the temperature graph but this time with rainfall, and in this graph, you can see a different result; every type seems to have fairly low values except for one of them; abduction/forced disappearence.\n",
    "\n",
    "With this, we can also conclude that in Benin, there's a higher chance of an abduction/forced disappearence being a conflict on rainier days compared to the others as shown above."
   ]
  },
  {
   "cell_type": "markdown",
   "metadata": {},
   "source": [
    "<h3>The end</h3>\n",
    "\n",
    "This concludes the end of notebook 4, you should now be more familiar with data visualisation as not only have you displayed data but also took advantage of their graphs by exploring them to make your own conclusions about correlations within the data."
   ]
  },
  {
   "cell_type": "markdown",
   "metadata": {},
   "source": [
    "<h3>Bibliography</h3>\n",
    "\n",
    "+ <a href=\"#Getting-started\">ACLED data set</a> by “Raleigh, Clionadh, Andrew Linke, Håvard Hegre and Joakim Karlsen. (2010). “Introducing ACLED-Armed Conflict Location and Event Data.” Journal of Peace Research 47(5) 651-660.” - Retrieved 10th of July, 2019, from <a href=\"https://www.acleddata.com/curated-data-files/\">https://www.acleddata.com/curated-data-files/</a>.\n",
    "+ <a href=\"#Correlations-in-weather-data\">Benin climate data</a> by U.S. Air Force Climatology Center - Retrieved 10th of July, 2019, from <a href=\"https://www7.ncdc.noaa.gov/CDO/cdoselect.cmd?datasetabbv=GSOD&countryabbv=&georegionabbv=AFR&resolution=40\">https://www7.ncdc.noaa.gov/CDO/cdoselect.cmd?datasetabbv=GSOD&countryabbv=&georegionabbv=AFR&resolution=40</a>."
   ]
  }
 ],
 "metadata": {
  "kernelspec": {
   "display_name": "Python 3",
   "language": "python",
   "name": "python3"
  },
  "language_info": {
   "codemirror_mode": {
    "name": "ipython",
    "version": 3
   },
   "file_extension": ".py",
   "mimetype": "text/x-python",
   "name": "python",
   "nbconvert_exporter": "python",
   "pygments_lexer": "ipython3",
   "version": "3.7.3"
  }
 },
 "nbformat": 4,
 "nbformat_minor": 4
}
